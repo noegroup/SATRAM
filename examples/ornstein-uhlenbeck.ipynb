{
 "cells": [
  {
   "cell_type": "markdown",
   "metadata": {
    "collapsed": true
   },
   "source": [
    "Let us consider the Ornstein-Uhlenbeck process $\\mathrm dx_t=-ax_t\\mathrm dt+b\\mathrm dW_t$. $x_t\\sim\\mathcal N\\left(x_0e^{-at},\\frac{b^2(1-e^{-2at})}{2a}\\right)$ and the stationary distribution is $\\mathcal N\\left(0,\\frac{b^2}{2a}\\right)$.\n",
    "If the variance is $\\sigma^2$, $a=\\frac{b^2}{2\\sigma^2}$.\n"
   ]
  },
  {
   "cell_type": "markdown",
   "metadata": {},
   "source": [
    "First, we import some necessary libraries"
   ]
  },
  {
   "cell_type": "code",
   "execution_count": 1,
   "metadata": {},
   "outputs": [],
   "source": [
    "import math\n",
    "import torch\n",
    "import numpy as np\n",
    "import matplotlib.pyplot as plt\n",
    "import scipy.spatial"
   ]
  },
  {
   "cell_type": "markdown",
   "metadata": {},
   "source": [
    "To use any of the estimators in the `SATRAM` package, we need to import the `ThermodynamicEstimator` of which the implementation will depend on the input parameters."
   ]
  },
  {
   "cell_type": "code",
   "execution_count": 2,
   "metadata": {},
   "outputs": [],
   "source": [
    "from satram import ThermodynamicEstimator"
   ]
  },
  {
   "cell_type": "markdown",
   "metadata": {},
   "source": [
    "We set some constants. In this toy example, we have 4 thermodynamic states which are defined by added constant bias potentials `s`. We will sample `T` data points in each state. `mu` and `sigma2` define the distribution of the OU-process. `centers` are the centers of the Markov states in which we will bin our samples."
   ]
  },
  {
   "cell_type": "code",
   "execution_count": 3,
   "metadata": {},
   "outputs": [],
   "source": [
    "n_therm_states = 4 # 4 thermodynamic states\n",
    "n_markov_states = 5 # 5 bins/Markov states\n",
    "\n",
    "s = np.array([0, 0.5, 1, 2])\n",
    "centers = np.linspace(-1, 1, n_markov_states).reshape(-1, 1) # Markov state bin centers\n",
    "\n",
    "mu = np.linspace(-1, 1, n_therm_states) \n",
    "sigma2 = 0.05\n",
    "T = int(1e5) # trajectory length"
   ]
  },
  {
   "cell_type": "markdown",
   "metadata": {},
   "source": [
    "The method `OU_simulation` generates a trajectory. "
   ]
  },
  {
   "cell_type": "code",
   "execution_count": 4,
   "metadata": {},
   "outputs": [],
   "source": [
    "# perform simulation\n",
    "def OU_simulation(mu, sigma2, b, delta_t):\n",
    "    a = b * b / 2 / sigma2\n",
    "    x = np.random.randn() * math.sqrt(sigma2)\n",
    "    traj = np.empty([T, 1])\n",
    "    r = math.exp(-a * delta_t)\n",
    "    v = math.sqrt(b * b * (1 - math.exp(-2 * a * delta_t)) / 2 / a)\n",
    "    for t in range(T):\n",
    "        x = x * r + v * np.random.randn()\n",
    "        traj[t] = x\n",
    "    traj += mu\n",
    "    return traj"
   ]
  },
  {
   "cell_type": "markdown",
   "metadata": {},
   "source": [
    "Now we generate a trajectory for each thermodynamic state. "
   ]
  },
  {
   "cell_type": "code",
   "execution_count": 5,
   "metadata": {},
   "outputs": [],
   "source": [
    "trajs = []\n",
    "for i in range(n_therm_states):\n",
    "    trajs.append(OU_simulation(mu[i], sigma2, 1, 10))"
   ]
  },
  {
   "cell_type": "markdown",
   "metadata": {},
   "source": [
    "Now we need to turn our trajectories into input for (SA)TRAM. We need ttrajs, dtrajs and a list of bias matrices.\n",
    "\n",
    "* `dtrajs`: The discrete trajectories in the form of a list or array of numpy arrays. `dtrajs[i]` contains one trajectory. `dtrajs[i][n]` equals the Markov state index that the $n$-th sample from the $i$-th trajectory was binned into. Each of the `dtrajs` thus has the same length as the corresponding `traj`.\n",
    "\n",
    "\n",
    "* `bias_list`: The bias energy matrices. `bias_matrices[i][n, k]` equals the bias energy of the $n$-th sample from the $i$-th trajectory, evaluated at thermodynamic state $k$, $b^k(x_{i,n})$. The bias energy matrices should have the same size as dtrajs in both the first and second dimensions. The third dimension is of size `n_therm_states`, i.e. for each sample, the bias energy in every thermodynamic state is calculated and stored in the bias_matrices.\n",
    "\n",
    "\n",
    "* `ttrajs`: `ttrajs[i]` indicates for each sample in the $i$-th trajectory what thermodynamic state that sample was sampled at."
   ]
  },
  {
   "cell_type": "code",
   "execution_count": 6,
   "metadata": {},
   "outputs": [],
   "source": [
    "ttrajs = []\n",
    "dtrajs = []\n",
    "bias_list = []\n",
    "\n",
    "for i, traj in enumerate(trajs):\n",
    "    # no replica exchange, so ttrajs is simply the trajectory index for\n",
    "    # each sample\n",
    "    ttrajs.append(np.asarray([i] * T))\n",
    "\n",
    "    # discretize trajs to create dtrajs \n",
    "    tmp_d = scipy.spatial.distance.cdist(traj, centers) ** 2\n",
    "    dtraj = np.argmin(tmp_d, 1)\n",
    "    dtrajs.append(dtraj)\n",
    "\n",
    "    # create bias matrices. \n",
    "    bias = (traj - mu) ** 2 / (2 * sigma2) + s\n",
    "    bias_list.append(bias)"
   ]
  },
  {
   "cell_type": "markdown",
   "metadata": {},
   "source": [
    "We define a callback to keep track of the free energy estimate"
   ]
  },
  {
   "cell_type": "code",
   "execution_count": 7,
   "metadata": {},
   "outputs": [],
   "source": [
    "i_s = []\n",
    "f_s = []\n",
    "def callback(i, f, log_v):\n",
    "    f_s.append(f)\n",
    "    i_s.append(i)"
   ]
  },
  {
   "cell_type": "markdown",
   "metadata": {},
   "source": [
    "We use tqdm to keep track of our iterations"
   ]
  },
  {
   "cell_type": "code",
   "execution_count": 8,
   "metadata": {},
   "outputs": [],
   "source": [
    "from tqdm.notebook import tqdm\n",
    "progress = tqdm"
   ]
  },
  {
   "cell_type": "markdown",
   "metadata": {},
   "source": [
    "Now we can use the `SATRAM` estimator to estimate the free energies. By setting `batch_size_increase=4`, the batch sizes is doubled every four epochs. The learning rate is adapted accordingly to $\\eta=\\sqrt{|B|/N}$."
   ]
  },
  {
   "cell_type": "code",
   "execution_count": 9,
   "metadata": {},
   "outputs": [
    {
     "data": {
      "application/vnd.jupyter.widget-view+json": {
       "model_id": "69cc3275156b428bb33245d7df670311",
       "version_major": 2,
       "version_minor": 0
      },
      "text/plain": [
       "  0%|          | 0/50 [00:00<?, ?it/s]"
      ]
     },
     "metadata": {},
     "output_type": "display_data"
    },
    {
     "name": "stdout",
     "output_type": "stream",
     "text": [
      "increasing batch size to 512, lr to 0.03577708763999664\n",
      "increasing batch size to 1024, lr to 0.05059644256269407\n",
      "increasing batch size to 2048, lr to 0.07155417527999328\n",
      "increasing batch size to 4096, lr to 0.10119288512538814\n",
      "increasing batch size to 8192, lr to 0.14310835055998655\n",
      "increasing batch size to 16384, lr to 0.20238577025077628\n",
      "increasing batch size to 32768, lr to 0.2862167011199731\n",
      "increasing batch size to 65536, lr to 0.40477154050155256\n",
      "increasing batch size to 131072, lr to 0.5724334022399462\n",
      "increasing batch size to 262144, lr to 0.8095430810031051\n",
      "increasing batch size to 400000, lr to 1\n"
     ]
    }
   ],
   "source": [
    "max_iter = 50\n",
    "\n",
    "estimator = ThermodynamicEstimator(progress=progress, maxiter=max_iter, device='cuda')\n",
    "estimator.fit((ttrajs, dtrajs, bias_list), solver_type=\"SATRAM\", callback=callback, patience=4)"
   ]
  },
  {
   "cell_type": "markdown",
   "metadata": {},
   "source": [
    "We can plot the free energies of the thermodynamic states and the ground truths, `s`, to look at the convergence behaviour of the estimate."
   ]
  },
  {
   "cell_type": "code",
   "execution_count": 25,
   "metadata": {},
   "outputs": [
    {
     "data": {
      "image/png": "[encoded data removed]",
      "text/plain": [
       "<Figure size 432x288 with 1 Axes>"
      ]
     },
     "metadata": {
      "needs_background": "light"
     },
     "output_type": "display_data"
    }
   ],
   "source": [
    "f_therms = -torch.logsumexp(-torch.stack(f_s), 2)\n",
    "f_therms -= f_therms.min(1)[0][:,None]\n",
    "\n",
    "for i, s_i in enumerate(s):\n",
    "    plt.plot(i_s, [s_i] * len(i_s), '--k')\n",
    "    plt.plot(i_s, f_therms[:,i])"
   ]
  },
  {
   "cell_type": "code",
   "execution_count": null,
   "metadata": {},
   "outputs": [],
   "source": []
  }
 ],
 "metadata": {
  "kernelspec": {
   "display_name": "Python 3 (ipykernel)",
   "language": "python",
   "name": "python3"
  },
  "language_info": {
   "codemirror_mode": {
    "name": "ipython",
    "version": 3
   },
   "file_extension": ".py",
   "mimetype": "text/x-python",
   "name": "python",
   "nbconvert_exporter": "python",
   "pygments_lexer": "ipython3",
   "version": "3.9.12"
  }
 },
 "nbformat": 4,
 "nbformat_minor": 1
}
