{
 "cells": [
  {
   "cell_type": "markdown",
   "id": "885060e8",
   "metadata": {},
   "source": [
    "# Analysing alanine dipeptide with TRAM\n",
    "We want to find the potential of mean force (PMF) with respect to the torsion angles of alanine dipeptide.\n",
    "\n",
    "Alanine dipeptide is a small peptide which is often used as a model system. It consists of 21 atoms, and we are interested in two backbone torsion angles $\\phi$ and $\\psi$.\n",
    "\n",
    "![Alanine dipeptide](img/alanine.png)\n",
    "(image source: https://www.cp2k.org/)\n",
    "\n",
    "We want to know how alanine dipeptide is structured, specifically, what combinations of these two torsion angles are energetically favourable, and which are unfavourable.\n",
    "\n",
    "To do this, simulations have been performed at 21 different temperatures between 300K and 500K. 10000 samples were taken at each thermodynamic state. We use SATRAM to combine the data from these different simulations, and to estimate the free energy of each state. We then reweight the samples to estimate the free energy surface as a function of the two torsion angles."
   ]
  },
  {
   "cell_type": "markdown",
   "id": "8d652134",
   "metadata": {},
   "source": [
    "## Input data\n",
    "The temperatures of the different replica's are given, as well as some imports and constants we will need:"
   ]
  },
  {
   "cell_type": "code",
   "execution_count": 1,
   "id": "29aa960e",
   "metadata": {},
   "outputs": [],
   "source": [
    "import numpy as np\n",
    "import matplotlib.pyplot as plt\n",
    "from tqdm.notebook import tqdm\n",
    "from deeptime.clustering import KMeans\n",
    "\n",
    "\n",
    "DIST = 10 # total number of temperature replicas (=simulations)\n",
    "SAMPLES_PER_T = 10000 # number of samples that were taken per simulation\n",
    "\n",
    "temperatures = np.arange(300, 501, DIST) # the temperatures of each simulation\n",
    "\n",
    "N_REPLICAS = len(temperatures) # 21 replicas\n",
    "\n",
    "# kBT in kJ/mol (at T=1K)\n",
    "kB_kJ = 0.00831446261815324  \n",
    "\n",
    "# kBT in kcal/mol (at T=1K)\n",
    "kB_kcal = 0.0019872042586408316"
   ]
  },
  {
   "cell_type": "markdown",
   "id": "191ec1fd",
   "metadata": {},
   "source": [
    "The input data consists of energies and angles. These are loaded into lists, each lists is of length `N_REPLICAS`. The `i`-th element in each list contains the data for the temperature at index `i`. In other words:\n",
    "\n",
    "* `angles[i][n]` is of shape `(2)` and contains angles $\\phi$ and $\\psi$ of the `n`-th sample taken in simulation `i` (i.e. at temperature `i`), in degrees.\n",
    "\n",
    "* `energies[i][n]` is the potential energy belonging to that same sample, in kcal/mol. "
   ]
  },
  {
   "cell_type": "code",
   "execution_count": 2,
   "id": "56698460",
   "metadata": {},
   "outputs": [
    {
     "name": "stderr",
     "output_type": "stream",
     "text": [
      "3365888it [00:00, 4022409.01it/s]                                                                                                                                                                                 \n",
      "1685504it [00:00, 3766621.91it/s]                                                                                                                                                                                 "
     ]
    },
    {
     "name": "stdout",
     "output_type": "stream",
     "text": [
      "angles    -    length: 21,  shape: (10000, 2)\n",
      "energies  -    length: 21,  shape: (10000,)\n"
     ]
    },
    {
     "name": "stderr",
     "output_type": "stream",
     "text": [
      "\n"
     ]
    }
   ],
   "source": [
    "import examples.datasets.alanine_dipeptide_parallel_tempering as dataset\n",
    "\n",
    "angles, energies = dataset.get_data()\n",
    "\n",
    "print(f\"angles    -    length: {len(angles)},  shape: {angles[0].shape}\")\n",
    "print(f\"energies  -    length: {len(energies)},  shape: {energies[0].shape}\")"
   ]
  },
  {
   "cell_type": "markdown",
   "id": "c0f3d0d0",
   "metadata": {},
   "source": [
    "### Constructing the bias matrix\n",
    "The energies are used to fill the bias matrix. For each sample, the bias needs to be computed in each thermodynamic state. More specifically: for each sample, we compute the bias energy $b^k(x) = U^k(x) - U^0(x) = u(x)\\;(\\beta_k - \\beta_0)$ for every thermodynamic state $k$, where $\\beta_0$ is the inverse temperature of our unbiased state, in this case the state corresponding to the lowest temperature, $T=300K$."
   ]
  },
  {
   "cell_type": "markdown",
   "id": "1b2251f5",
   "metadata": {},
   "source": [
    "The inverse temperature $\\beta^k$ is computed for each thermodynamic state."
   ]
  },
  {
   "cell_type": "code",
   "execution_count": 3,
   "id": "447a88a0",
   "metadata": {
    "solution2": "shown"
   },
   "outputs": [],
   "source": [
    "betas = (kB_kJ * temperatures.astype(float))**(-1)"
   ]
  },
  {
   "cell_type": "markdown",
   "id": "bbf8e4a6",
   "metadata": {},
   "source": [
    "Now we compute the bias matrices and add them to the list of length `N_REPLICAS`, with each bias matrix of shape `(SAMPLES_PER_T, N_REPLICAS)`. Each element `bias_matrices[k][n][l]` contains value $b^l(x_n^k)$, i.e. the bias energy of the $n$-th sample in the $k$-th trajectory, _evaluated at_ state $l$."
   ]
  },
  {
   "cell_type": "code",
   "execution_count": 4,
   "id": "741a9331",
   "metadata": {
    "solution2": "shown"
   },
   "outputs": [
    {
     "name": "stdout",
     "output_type": "stream",
     "text": [
      "(10000, 21)\n"
     ]
    },
    {
     "data": {
      "text/plain": [
       "21"
      ]
     },
     "execution_count": 4,
     "metadata": {},
     "output_type": "execute_result"
    }
   ],
   "source": [
    "bias_matrices = []\n",
    "\n",
    "for k, T in enumerate(temperatures):\n",
    "    # apply the bias factors to the potential energies to produce bias energies\n",
    "    bias_matrices.append((betas - betas[0]) * energies[k][:, None])\n",
    "    \n",
    "print(bias_matrices[0].shape)\n",
    "len(bias_matrices)"
   ]
  },
  {
   "cell_type": "markdown",
   "id": "52046cc7",
   "metadata": {},
   "source": [
    "### Discretizing the trajectories\n",
    "The torsion angles $\\phi$ and $\\psi$ are transformed into discrete trajectories from which the transition counts are computed.\n",
    "\n",
    "The angles are discretized into Markov states by use of the KMeans++ clustering algorithm as implemented in deeptime.\n",
    "\n",
    "(see also https://deeptime-ml.github.io/latest/notebooks/clustering.html#k-means++-initialization)"
   ]
  },
  {
   "cell_type": "code",
   "execution_count": 5,
   "id": "757831ff",
   "metadata": {
    "solution2": "shown"
   },
   "outputs": [
    {
     "name": "stdout",
     "output_type": "stream",
     "text": [
      "[ 5 19  0  0  0  8  0  0  0  7]\n"
     ]
    },
    {
     "name": "stderr",
     "output_type": "stream",
     "text": [
      "C:\\Users\\Maaike\\miniconda3\\envs\\satram\\lib\\site-packages\\deeptime\\clustering\\_kmeans.py:466: UserWarning: Algorithm did not reach convergence criterion of 1e-05 in 10 iterations. Consider increasing max_iter.\n",
      "  warnings.warn(f\"Algorithm did not reach convergence criterion\"\n"
     ]
    }
   ],
   "source": [
    "clusterer = KMeans(\n",
    "    n_clusters=20, # we will cluster data to 20 Markov states\n",
    "    init_strategy='kmeans++',\n",
    "    max_iter=10,\n",
    "    fixed_seed=13,\n",
    "    n_jobs=8\n",
    ")\n",
    "clustering = clusterer.fit(angles).fetch_model()\n",
    "\n",
    "dtrajs = []\n",
    "\n",
    "for A in angles:\n",
    "    dtrajs.append(np.asarray(clustering.transform(A)))\n",
    "\n",
    "print(dtrajs[0][:10])"
   ]
  },
  {
   "cell_type": "markdown",
   "id": "90e4bff1",
   "metadata": {},
   "source": [
    "### ttrajs\n",
    "Since no replica exchange was done, each samples thermodynamic state index is equal to its simulation index. The ttrajs kan thus be simply constructed as follows:"
   ]
  },
  {
   "cell_type": "code",
   "execution_count": 6,
   "id": "fd1ecd26",
   "metadata": {},
   "outputs": [],
   "source": [
    "ttrajs = [np.asarray([i] * len(dtrajs[i])) for i in range(N_REPLICAS)]"
   ]
  },
  {
   "cell_type": "markdown",
   "id": "5b614d3f",
   "metadata": {},
   "source": [
    "### Analysing the data with TRAM\n",
    "Now we use SATRAM to estimate the free energies. We run SATRAM for `max_iter` iteration. The batch size is doubled every 10 epochs."
   ]
  },
  {
   "cell_type": "code",
   "execution_count": 7,
   "id": "2b4bb4ec",
   "metadata": {
    "solution2": "shown"
   },
   "outputs": [
    {
     "data": {
      "application/vnd.jupyter.widget-view+json": {
       "model_id": "a1dfc23b25274197b02166e2c9352ad7",
       "version_major": 2,
       "version_minor": 0
      },
      "text/plain": [
       "  0%|          | 0/50 [00:00<?, ?it/s]"
      ]
     },
     "metadata": {},
     "output_type": "display_data"
    },
    {
     "name": "stdout",
     "output_type": "stream",
     "text": [
      "increasing batch size to 512, lr to 0.049377071987869406\n",
      "increasing batch size to 1024, lr to 0.06982972487551756\n",
      "increasing batch size to 2048, lr to 0.09875414397573881\n",
      "increasing batch size to 4096, lr to 0.13965944975103511\n"
     ]
    }
   ],
   "source": [
    "from satram import ThermodynamicEstimator\n",
    "from tqdm.notebook import tqdm\n",
    "\n",
    "max_iter = 50\n",
    "\n",
    "estimator = ThermodynamicEstimator(progress=tqdm, maxiter=max_iter, device='cuda', lagtime=10)\n",
    "estimator.fit((ttrajs, dtrajs, bias_matrices), solver_type=\"SATRAM\", patience=10)"
   ]
  },
  {
   "cell_type": "markdown",
   "id": "2f7111a1",
   "metadata": {},
   "source": [
    "### Recovering the PMF\n",
    "Now we recover the free energy surface as a function of the torsion angles. For this, the two-dimensional angles are discretized into a one-dimensional set of bins over the space (-180, 180). The PMF is then computed over the bins"
   ]
  },
  {
   "cell_type": "code",
   "execution_count": 8,
   "id": "27e75b28",
   "metadata": {
    "solution2": "shown"
   },
   "outputs": [],
   "source": [
    "n_bins = 20\n",
    "bins = np.linspace(-180, 180, n_bins, endpoint=True)\n",
    "\n",
    "binned_angles = np.digitize(np.concatenate(angles), np.linspace(-180, 180, n_bins, endpoint=False), right=False) - 1\n",
    "binned_trajectories = n_bins * binned_angles[:, 0] + binned_angles[:, 1]"
   ]
  },
  {
   "cell_type": "code",
   "execution_count": 9,
   "id": "bbbe8d9c",
   "metadata": {},
   "outputs": [],
   "source": [
    "pmf = estimator.compute_pmf(binned_trajectories, n_bins**2)"
   ]
  },
  {
   "cell_type": "markdown",
   "id": "6d57a9a6",
   "metadata": {},
   "source": [
    "We plot the PMF in kcal/mol"
   ]
  },
  {
   "cell_type": "code",
   "execution_count": 10,
   "id": "de49e9a1",
   "metadata": {
    "solution2": "shown"
   },
   "outputs": [
    {
     "data": {
      "image/png": "[encoded data removed]",
      "text/plain": [
       "<Figure size 432x288 with 2 Axes>"
      ]
     },
     "metadata": {
      "needs_background": "light"
     },
     "output_type": "display_data"
    }
   ],
   "source": [
    "XS, YS = np.meshgrid(bins, bins)\n",
    "pmf_kcal_mol = np.reshape(pmf, [n_bins, n_bins]).T * kB_kcal * 300\n",
    "im = plt.contourf(XS, YS, pmf_kcal_mol, cmap='jet', levels=np.linspace(0, 20, 50))\n",
    "plt.colorbar(im);"
   ]
  },
  {
   "cell_type": "code",
   "execution_count": null,
   "id": "63c00b23",
   "metadata": {},
   "outputs": [],
   "source": []
  }
 ],
 "metadata": {
  "kernelspec": {
   "display_name": "Python 3 (ipykernel)",
   "language": "python",
   "name": "python3"
  },
  "language_info": {
   "codemirror_mode": {
    "name": "ipython",
    "version": 3
   },
   "file_extension": ".py",
   "mimetype": "text/x-python",
   "name": "python",
   "nbconvert_exporter": "python",
   "pygments_lexer": "ipython3",
   "version": "3.9.12"
  },
  "toc": {
   "base_numbering": 1,
   "nav_menu": {},
   "number_sections": true,
   "sideBar": true,
   "skip_h1_title": false,
   "title_cell": "Table of Contents",
   "title_sidebar": "Contents",
   "toc_cell": false,
   "toc_position": {},
   "toc_section_display": true,
   "toc_window_display": false
  }
 },
 "nbformat": 4,
 "nbformat_minor": 5
}
