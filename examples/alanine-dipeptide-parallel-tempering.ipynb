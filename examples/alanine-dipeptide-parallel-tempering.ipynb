{
 "cells": [
  {
   "cell_type": "markdown",
   "id": "928ac5d7",
   "metadata": {},
   "source": [
    "# Analysing alanine dipeptide with TRAM\n",
    "As an excercise, find the potential of mean force (PMF) with respect to the torsion angles of alanine dipeptide.\n",
    "\n",
    "Alanine dipeptide is a small peptide which is often used as a model system. It consists of 21 atoms, and we are interested in two backbone torsion angles $\\phi$ and $\\psi$.\n",
    "\n",
    "![Alanine dipeptide](img/alanine.png)\n",
    "(image source: https://www.cp2k.org/)\n",
    "\n",
    "We want to know how alanine dipeptide is structured, specifically, what combinations of these two torsion angles are energetically favourable, and which are unfavourable.\n",
    "\n",
    "To do this, simulations have been performed at 21 different temperatures between 300K and 500K. Each simulation corresponds to one thermodynamic state, and 10000 samples were taken during each simulation (energies and torsion angles have been stored).\n",
    "\n",
    "Use TRAM to combine the data from these different simulations, and estimate the free energy of each state. Then use those free energies to estimate the free energy surface as a function of the two torsion angles."
   ]
  },
  {
   "cell_type": "markdown",
   "id": "81803c35",
   "metadata": {},
   "source": [
    "## Input data\n",
    "The temperatures of the different simulations (i.e. replica's, i.e. thermodynamic states) are given, as well as some useful imports and constants:"
   ]
  },
  {
   "cell_type": "code",
   "execution_count": 1,
   "id": "98e4ab18",
   "metadata": {},
   "outputs": [],
   "source": [
    "import numpy as np\n",
    "import matplotlib.pyplot as plt\n",
    "from tqdm.notebook import tqdm\n",
    "from deeptime.clustering import KMeans\n",
    "\n",
    "\n",
    "DIST = 10 # total number of temperature replicas (=simulations)\n",
    "SAMPLES_PER_T = 10000 # number of samples that were taken per simulation\n",
    "\n",
    "temperatures = np.arange(300, 501, DIST) # the temperatures of each simulation\n",
    "\n",
    "N_REPLICAS = len(temperatures) # 21 replicas\n",
    "\n",
    "# kBT in kJ/mol (T=300K)\n",
    "kB_kJ = 0.00831446261815324  \n",
    "\n",
    "# kBT in kcal/mol (T=300K)\n",
    "kB_kcal = 0.0019872042586408316"
   ]
  },
  {
   "cell_type": "markdown",
   "id": "b062c8b5",
   "metadata": {},
   "source": [
    "The input data consists of energies and angles. These are loaded into lists, each lists is of length `N_REPLICAS`. The `i`-th element in each list contains the data for the temperature at index `i`. In other words:\n",
    "\n",
    "* `angles[i][n]` is of shape `(2)` and contains angles $\\phi$ and $\\psi$ of the `n`-th sample taken in simulation `i` (i.e. at temperature `i`), in degrees.\n",
    "\n",
    "* `energies[i][n]` is the potential energy belonging to that same sample, in kcal/mol. "
   ]
  },
  {
   "cell_type": "code",
   "execution_count": 2,
   "id": "1acf1523",
   "metadata": {},
   "outputs": [
    {
     "name": "stdout",
     "output_type": "stream",
     "text": [
      "angles    -    length: 21,  shape: (50000, 2)\n",
      "energies  -    length: 21,  shape: (50000,)\n"
     ]
    }
   ],
   "source": [
    "# angles_file_name = mdshare.fetch('alanine_dipeptide_parallel_tempering_dihedrals.npz', working_directory='data')\n",
    "# energies_file_name = mdshare.fetch('alanine_dipeptide_parallel_tempering_energies.npz', working_directory='data')\n",
    "angles_file = 'D:/Users/Maaike/Documents/PhD/stochastic free energy estimators/experiments/temp_biased_data/input/dihedrals/dihedrals_{}.npz'\n",
    "energies_file = 'D:/Users/Maaike/Documents/PhD/stochastic free energy estimators/experiments/temp_biased_data/input/energies/energies_{}.npz'\n",
    "\n",
    "angles = []\n",
    "energies = []\n",
    "\n",
    "for T in temperatures:\n",
    "    angles.append(np.load(angles_file.format(T))['arr_0'])\n",
    "    energies_T = np.load(energies_file.format(T))['arr_0']\n",
    "    energies_T -= energies_T.min()\n",
    "    energies.append(energies_T)\n",
    "print(f\"angles    -    length: {len(angles)},  shape: {angles[0].shape}\")\n",
    "print(f\"energies  -    length: {len(energies)},  shape: {energies[0].shape}\")"
   ]
  },
  {
   "cell_type": "markdown",
   "id": "f2228926",
   "metadata": {},
   "source": [
    "### Constructing the bias matrix\n",
    "The energies are used to fill the bias matrix. For each sample, the bias needs to be computed in each thermodynamic state. More specifically: for each sample, we compute the bias energy $b^k(x) = U^k(x) - U^0(x)$ for every thermodynamic state $k$. "
   ]
  },
  {
   "cell_type": "markdown",
   "id": "813fa873",
   "metadata": {},
   "source": [
    "The inverse temperature $\\beta$ is computed for each thermodynamic state."
   ]
  },
  {
   "cell_type": "code",
   "execution_count": 3,
   "id": "21a5fcac",
   "metadata": {
    "solution2": "shown"
   },
   "outputs": [],
   "source": [
    "betas = (kB_kJ * temperatures.astype(float))**(-1)"
   ]
  },
  {
   "cell_type": "markdown",
   "id": "5af3539e",
   "metadata": {},
   "source": [
    "Now we compute the bias matrices and add them to the list of length `N_REPLICAS`, with each bias matrix of shape `(SAMPLES_PER_T, N_REPLICAS)`. Each element `bias_matrices[k][n][l]` contains value $b^l(x_n^k)$, i.e. the bias energy of the $n$-th sample in the $k$-th trajectory, _evaluated at_ state $l$."
   ]
  },
  {
   "cell_type": "code",
   "execution_count": 4,
   "id": "8805102e",
   "metadata": {
    "solution2": "shown"
   },
   "outputs": [
    {
     "name": "stdout",
     "output_type": "stream",
     "text": [
      "(50000, 21)\n"
     ]
    },
    {
     "data": {
      "text/plain": [
       "21"
      ]
     },
     "execution_count": 4,
     "metadata": {},
     "output_type": "execute_result"
    }
   ],
   "source": [
    "bias_matrices = []\n",
    "\n",
    "for k, T in enumerate(temperatures):\n",
    "    # apply the bias factors to the potential energies to produce bias energies\n",
    "    bias_matrices.append((betas - betas[0]) * energies[k][:, None])\n",
    "    \n",
    "print(bias_matrices[0].shape)\n",
    "len(bias_matrices)"
   ]
  },
  {
   "cell_type": "markdown",
   "id": "38b6648e",
   "metadata": {},
   "source": [
    "### Discretizing the trajectories\n",
    "The torsion angles $\\phi$ and $\\psi$ need to be transformed into discrete trajectories from which the transition counts are computed.\n",
    "\n",
    "The angles are discretized into Markov states by use of the KMeans++ clustering algorithm as implemented in deeptime.\n",
    "\n",
    "(see also https://deeptime-ml.github.io/latest/notebooks/clustering.html#k-means++-initialization)"
   ]
  },
  {
   "cell_type": "code",
   "execution_count": 5,
   "id": "e04f0434",
   "metadata": {
    "solution2": "shown"
   },
   "outputs": [
    {
     "name": "stdout",
     "output_type": "stream",
     "text": [
      "[10  9  5 10 10  4 10  9  4 10]\n"
     ]
    },
    {
     "name": "stderr",
     "output_type": "stream",
     "text": [
      "C:\\Users\\Maaike\\miniconda3\\lib\\site-packages\\deeptime\\clustering\\_kmeans.py:466: UserWarning: Algorithm did not reach convergence criterion of 1e-05 in 10 iterations. Consider increasing max_iter.\n",
      "  warnings.warn(f\"Algorithm did not reach convergence criterion\"\n"
     ]
    }
   ],
   "source": [
    "clusterer = KMeans(\n",
    "    n_clusters=20, # we will cluster data to 20 Markov states\n",
    "    init_strategy='kmeans++',\n",
    "    max_iter=10,\n",
    "    fixed_seed=13,\n",
    "    n_jobs=8\n",
    ")\n",
    "clustering = clusterer.fit(angles).fetch_model()\n",
    "\n",
    "dtrajs = []\n",
    "\n",
    "for A in angles:\n",
    "    dtrajs.append(np.asarray(clustering.transform(A)))\n",
    "\n",
    "print(dtrajs[0][:10])"
   ]
  },
  {
   "cell_type": "markdown",
   "id": "077e672b",
   "metadata": {},
   "source": [
    "### ttrajs\n",
    "Since no replica exchange was done, each samples thermodynamic state index is equal to its simulation index. The ttrajs kan thus be simply constructed as follows:"
   ]
  },
  {
   "cell_type": "code",
   "execution_count": 6,
   "id": "e31004eb",
   "metadata": {},
   "outputs": [],
   "source": [
    "ttrajs = [np.asarray([i] * len(dtrajs[i])) for i in range(N_REPLICAS)]"
   ]
  },
  {
   "cell_type": "markdown",
   "id": "edf66056",
   "metadata": {},
   "source": [
    "### Analysing the data with TRAM\n",
    "Now use TRAM to estimate the free energies. First construct a TRAMDataset, and use this to restrict the data to the largest connected set."
   ]
  },
  {
   "cell_type": "code",
   "execution_count": 7,
   "id": "2463dfc9",
   "metadata": {
    "solution2": "shown"
   },
   "outputs": [
    {
     "data": {
      "application/vnd.jupyter.widget-view+json": {
       "model_id": "dd92074a82c44f04b73c9722ff093d83",
       "version_major": 2,
       "version_minor": 0
      },
      "text/plain": [
       "  0%|          | 0/10 [00:00<?, ?it/s]"
      ]
     },
     "metadata": {},
     "output_type": "display_data"
    },
    {
     "name": "stdout",
     "output_type": "stream",
     "text": [
      "8192\n",
      "8192\n",
      "8192\n",
      "8192\n",
      "8192\n",
      "8192\n",
      "8192\n",
      "8192\n",
      "8192\n",
      "8192\n"
     ]
    }
   ],
   "source": [
    "from satram import ThermodynamicEstimator\n",
    "from tqdm.notebook import tqdm\n",
    "\n",
    "max_iter = 10\n",
    "\n",
    "estimator = ThermodynamicEstimator(progress=tqdm, maxiter=max_iter, device='cuda', lagtime=10)\n",
    "estimator.fit((ttrajs, dtrajs, bias_matrices), solver_type=\"TRAM\", batch_size_increase=10)"
   ]
  },
  {
   "cell_type": "markdown",
   "id": "09be8d5a",
   "metadata": {},
   "source": [
    "### Recovering the PMF\n",
    "Now we recover the free energy surface as a function of the torsion angles. For this, the two-dimensional angles are discretized into a one-dimensional set of bins over the space (-180, 180). The PMF is then computed over the bins"
   ]
  },
  {
   "cell_type": "code",
   "execution_count": 20,
   "id": "e4f06d1c",
   "metadata": {
    "solution2": "shown"
   },
   "outputs": [],
   "source": [
    "n_bins = 20\n",
    "bins = np.linspace(-180, 180, n_bins, endpoint=True)\n",
    "\n",
    "binned_angles = np.digitize(np.concatenate(angles), np.linspace(-180, 180, n_bins, endpoint=False), right=False) - 1\n",
    "binned_trajectories = n_bins * binned_angles[:, 0] + binned_angles[:, 1]"
   ]
  },
  {
   "cell_type": "code",
   "execution_count": 21,
   "id": "9276d2d0",
   "metadata": {},
   "outputs": [],
   "source": [
    "pmf = estimator.compute_pmf(binned_trajectories, n_bins**2)"
   ]
  },
  {
   "cell_type": "code",
   "execution_count": 22,
   "id": "7141ba22",
   "metadata": {
    "solution2": "shown"
   },
   "outputs": [
    {
     "data": {
      "image/png": "[encoded data removed]",
      "text/plain": [
       "<Figure size 432x288 with 2 Axes>"
      ]
     },
     "metadata": {
      "needs_background": "light"
     },
     "output_type": "display_data"
    }
   ],
   "source": [
    "XS, YS = np.meshgrid(bins, bins)\n",
    "im = plt.contourf(XS, YS, np.reshape(pmf, [n_bins, n_bins]).T, cmap='jet', levels=50)\n",
    "plt.colorbar(im);"
   ]
  }
 ],
 "metadata": {
  "kernelspec": {
   "display_name": "Python 3 (ipykernel)",
   "language": "python",
   "name": "python3"
  },
  "language_info": {
   "codemirror_mode": {
    "name": "ipython",
    "version": 3
   },
   "file_extension": ".py",
   "mimetype": "text/x-python",
   "name": "python",
   "nbconvert_exporter": "python",
   "pygments_lexer": "ipython3",
   "version": "3.9.1"
  },
  "toc": {
   "base_numbering": 1,
   "nav_menu": {},
   "number_sections": true,
   "sideBar": true,
   "skip_h1_title": false,
   "title_cell": "Table of Contents",
   "title_sidebar": "Contents",
   "toc_cell": false,
   "toc_position": {},
   "toc_section_display": true,
   "toc_window_display": false
  }
 },
 "nbformat": 4,
 "nbformat_minor": 5
}
